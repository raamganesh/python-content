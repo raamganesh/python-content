{
 "cells": [
  {
   "cell_type": "markdown",
   "id": "25816566-888c-4bfd-8af8-28822e98a0bd",
   "metadata": {},
   "source": [
    "# PANDAS\n",
    "\n",
    "\n",
    "\n",
    "Interview questions:\n",
    "https://www.javatpoint.com/python-pandas-interview-questions\n"
   ]
  }
 ],
 "metadata": {
  "kernelspec": {
   "display_name": "Python 3 (ipykernel)",
   "language": "python",
   "name": "python3"
  },
  "language_info": {
   "codemirror_mode": {
    "name": "ipython",
    "version": 3
   },
   "file_extension": ".py",
   "mimetype": "text/x-python",
   "name": "python",
   "nbconvert_exporter": "python",
   "pygments_lexer": "ipython3",
   "version": "3.9.0"
  }
 },
 "nbformat": 4,
 "nbformat_minor": 5
}
