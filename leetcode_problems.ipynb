{
 "cells": [
  {
   "cell_type": "markdown",
   "id": "50055ebb-4de0-4063-b2b8-bd672756e051",
   "metadata": {},
   "source": [
    "Given an array nums. We define a running sum of an array as runningSum[i] = sum(nums[0]…nums[i]).<br>\n",
    "<br>\n",
    "Return the running sum of nums.<br>\n",
    "<br>\n",
    "Example 1:<br>\n",
    "<br>\n",
    "Input: nums = [1,2,3,4]<br>\n",
    "Output: [1,3,6,10]<br>\n",
    "Explanation: Running sum is obtained as follows: [1, 1+2, 1+2+3, 1+2+3+4].<br>"
   ]
  },
  {
   "cell_type": "code",
   "execution_count": 7,
   "id": "7f2bc9d5-169d-4f40-9c7d-36f32c800c3f",
   "metadata": {},
   "outputs": [
    {
     "name": "stdout",
     "output_type": "stream",
     "text": [
      "Actual list:  [2, 8, 6, 5, 5, 7, 3, 4, 4, 4]\n",
      "After summing up:  [2, 10, 16, 21, 26, 33, 36, 40, 44, 48]\n",
      "____________________________________________________________________________________________________\n",
      "Actual list:  [2, 8, 6, 5, 5, 7, 3, 4, 4, 4]\n",
      "After summing up:  [2, 10, 16, 21, 26, 33, 36, 40, 44, 48]\n"
     ]
    }
   ],
   "source": [
    "from numpy.random import randint\n",
    "\n",
    "list1 = randint( 1 ,10, 10 )\n",
    "list1 = list1.tolist()\n",
    "list3 = list1.copy()\n",
    "# effective solution\n",
    "print(\"Actual list: \", list1)\n",
    "for i in range( 1, len(list1)):\n",
    "    list1[ i ] += list1[ i-1 ]\n",
    "\n",
    "print(\"After summing up: \", list1)\n",
    "\n",
    "# Alternative solution\n",
    "print('_'*100)\n",
    "print(\"Actual list: \", list3)               \n",
    "\n",
    "size = len(list3)\n",
    "result = []\n",
    "if 1 <= size <= 1000:\n",
    "    i = 1\n",
    "    if i <= size:\n",
    "        for j in range(size):\n",
    "            sum_list = sum(list3[:i])\n",
    "            i += 1\n",
    "            result.append(sum_list)\n",
    "        print(\"After summing up: \", result)"
   ]
  },
  {
   "cell_type": "markdown",
   "id": "3549a949-7825-4e22-81db-463e9564f223",
   "metadata": {},
   "source": [
    "<hr />\n",
    "# Transpose of a matrix <br>\n",
    "Given a 2D integer array matrix, return the transpose of matrix.<br>\n",
    "\n",
    "The transpose of a matrix is the matrix flipped over its main diagonal, switching the matrix's row and column indices.<br>\n",
    "<br>\n",
    "<br>\n",
    " \n",
    "\n",
    "Example 1:<br>\n",
    "\n",
    "Input: matrix = [[1,2,3],[4,5,6],[7,8,9]]<br>\n",
    "Output: [[1,4,7],[2,5,8],[3,6,9]]<br>\n"
   ]
  },
  {
   "cell_type": "code",
   "execution_count": 17,
   "id": "af434770-469f-4b6e-9918-32a3e22348ec",
   "metadata": {},
   "outputs": [
    {
     "name": "stdout",
     "output_type": "stream",
     "text": [
      "[[10, 10, 3, 7], [6, 2, 8, 8], [3, 4, 3, 8], [5, 8, 10, 6]]\n"
     ]
    }
   ],
   "source": [
    "matrix = [[10,6,3,5],[10,2,4,8],[3,8,3,10],[7,8,8,6]]\n",
    "\n",
    "m = len(matrix)\n",
    "n = len(matrix[0])\n",
    "if (1<=m<=1000) or (1<=n<=1000):\n",
    "    if 1<=m*n<=10**5:\n",
    "        result = []\n",
    "        for i in range(n):\n",
    "            temp = []\n",
    "            for sub_list in matrix:\n",
    "                temp.append(sub_list[i])\n",
    "            result.append(temp)\n",
    "print(result)"
   ]
  }
 ],
 "metadata": {
  "kernelspec": {
   "display_name": "Python 3 (ipykernel)",
   "language": "python",
   "name": "python3"
  },
  "language_info": {
   "codemirror_mode": {
    "name": "ipython",
    "version": 3
   },
   "file_extension": ".py",
   "mimetype": "text/x-python",
   "name": "python",
   "nbconvert_exporter": "python",
   "pygments_lexer": "ipython3",
   "version": "3.9.0"
  }
 },
 "nbformat": 4,
 "nbformat_minor": 5
}
