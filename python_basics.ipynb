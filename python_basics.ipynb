{
 "cells": [
  {
   "cell_type": "markdown",
   "id": "2f1fbb62-14e6-4d59-95c7-8b0405dfa052",
   "metadata": {},
   "source": [
    "**Functions** <br>\n",
    "A function is a rule that takes zero or more inputs and returns a corresponding output. functions are defined by the prefix 'def'\n",
    "\n",
    "Lambda - short anonymous functions\n"
   ]
  },
  {
   "cell_type": "code",
   "execution_count": 3,
   "id": "55b33194-77c7-4c9f-9499-6df4b57e7c18",
   "metadata": {},
   "outputs": [
    {
     "name": "stdout",
     "output_type": "stream",
     "text": [
      "<function myfunc.<locals>.<lambda> at 0x0000027525520040>\n",
      "20\n"
     ]
    }
   ],
   "source": [
    "def myfunc(n):\n",
    "  return lambda a : a * n\n",
    "\n",
    "mydoubler = myfunc(2)\n",
    "print(mydoubler)\n",
    "\n",
    "value = mydoubler(10)\n",
    "print(value)"
   ]
  }
 ],
 "metadata": {
  "kernelspec": {
   "display_name": "Python 3 (ipykernel)",
   "language": "python",
   "name": "python3"
  },
  "language_info": {
   "codemirror_mode": {
    "name": "ipython",
    "version": 3
   },
   "file_extension": ".py",
   "mimetype": "text/x-python",
   "name": "python",
   "nbconvert_exporter": "python",
   "pygments_lexer": "ipython3",
   "version": "3.9.0"
  }
 },
 "nbformat": 4,
 "nbformat_minor": 5
}
