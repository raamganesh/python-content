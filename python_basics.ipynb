{
 "cells": [
  {
   "cell_type": "markdown",
   "id": "2f1fbb62-14e6-4d59-95c7-8b0405dfa052",
   "metadata": {},
   "source": [
    "# Functions\n",
    "A function is a rule that takes zero or more inputs and returns a corresponding output. functions are defined by the prefix 'def'\n",
    "\n",
    "Lambda - short anonymous functions\n",
    "A lambda function can take any number of arguments, but can only have one expression.\n",
    "\n",
    " Python supports a style of programming called functional programming where you can pass functions to other functions to do various functionalites.\n",
    " \n",
    " - filter() - https://www.geeksforgeeks.org/filter-in-python/ <br>\n",
    "     The filter() method filters the given sequence with the help of a function that tests each element in the sequence to be true or not.<br>\n",
    " - reduce() - https://www.geeksforgeeks.org/reduce-in-python/?ref=lbp<br>\n",
    "     The reduce(fun,seq) function is used to apply a particular function passed in its argument to all of the list elements mentioned in the sequence passed along.This function is defined in “functools” module.<br>\n",
    " - map() - https://www.geeksforgeeks.org/python-map-function/?ref=lbp<br>\n",
    "     map() function returns a map object(which is an iterator) of the results after applying the given function to each item of a given iterable (list, tuple etc.)\n",
    " \n"
   ]
  },
  {
   "cell_type": "markdown",
   "id": "8032593e-997f-4d91-a2b5-5e36fc786438",
   "metadata": {},
   "source": [
    "# Classes\n",
    "\n"
   ]
  },
  {
   "cell_type": "code",
   "execution_count": 5,
   "id": "798ce763-f301-473a-9d92-829ce91c4dd1",
   "metadata": {},
   "outputs": [
    {
     "name": "stdout",
     "output_type": "stream",
     "text": [
      "100\n",
      "50\n"
     ]
    }
   ],
   "source": [
    "class Dog():\n",
    "    a = 100\n",
    "    \n",
    "    def __init__( self, int1, int2 ):\n",
    "        self.result = int1 + int2\n",
    "    \n",
    "b = Dog( 20, 30 )\n",
    "\n",
    "print(b.a)\n",
    "print(b.result)"
   ]
  },
  {
   "cell_type": "code",
   "execution_count": 2,
   "id": "55b33194-77c7-4c9f-9499-6df4b57e7c18",
   "metadata": {},
   "outputs": [
    {
     "name": "stdout",
     "output_type": "stream",
     "text": [
      "<function myfunc.<locals>.<lambda> at 0x0000026038E7CA60>\n",
      "20\n",
      "[73, 24, 96, 94, 63, 51, 33, 94, 40, 11]\n",
      "____________________________________________________________________________________________________\n",
      "[24, 96, 94, 94, 40]\n",
      "____________________________________________________________________________________________________\n",
      "The sum of the list elements is : \n",
      "579\n",
      "The maximum element of the list is : \n",
      "96\n",
      "____________________________________________________________________________________________________\n",
      "[146, 48, 192, 188, 126, 102, 66, 188, 80, 22]\n",
      "____________________________________________________________________________________________________\n"
     ]
    }
   ],
   "source": [
    "def myfunc(n):\n",
    "  return lambda a : a * n\n",
    "\n",
    "mydoubler = myfunc(2)\n",
    "print(mydoubler)\n",
    "\n",
    "value = mydoubler(10)\n",
    "print(value)\n",
    "\n",
    "# List with 10 random numbers\n",
    "\n",
    "from numpy.random import randint\n",
    "\n",
    "list1 = randint( 1, 100, 10 )\n",
    "\n",
    "list1 = list1.tolist()\n",
    "\n",
    "print(list1)\n",
    "print('_'*100)\n",
    "# filter(function, sequence)\n",
    "# result contains even numbers of the list\n",
    "result = filter(lambda x: x % 2 == 0, list1)\n",
    "print(list(result))\n",
    "print('_'*100)\n",
    "\n",
    "\n",
    "# reduce(function, sequence)\n",
    "# using reduce to compute sum of list\n",
    "from functools import reduce\n",
    "print(\"The sum of the list elements is : \")\n",
    "print( reduce(lambda a, b: a+b, list1))\n",
    " \n",
    "    \n",
    "    \n",
    "# using reduce to compute maximum element from list\n",
    "print(\"The maximum element of the list is : \")\n",
    "print(reduce(lambda a, b: a if a > b else b, list1))\n",
    "print('_'*100)\n",
    "\n",
    "\n",
    "# Double all numbers using map and lambda\n",
    "\n",
    "result = map(lambda x: x + x, list1)\n",
    "print(list(result))\n",
    "\n",
    "print('_'*100)"
   ]
  },
  {
   "cell_type": "markdown",
   "id": "1e485cdd-3c33-4702-8879-ec3a04d19e78",
   "metadata": {},
   "source": [
    "# Iterables\n"
   ]
  },
  {
   "cell_type": "code",
   "execution_count": 19,
   "id": "2eea10f4-4413-464d-8134-35564d86a322",
   "metadata": {},
   "outputs": [
    {
     "name": "stdout",
     "output_type": "stream",
     "text": [
      "[9, 45, 41, 10, 44, 18, 8, 38, 7, 7]\n",
      "[9, 45, 41, 10, 44, 18, 8, 38, 7, 7]\n",
      "0\n",
      "1\n",
      "2\n",
      "3\n",
      "4\n",
      "5\n",
      "6\n",
      "7\n",
      "8\n",
      "9\n",
      "[9, 54, 95, 105, 149, 167, 175, 213, 220, 227]\n"
     ]
    }
   ],
   "source": [
    "# random list\n",
    "from numpy.random import randint\n",
    "\n",
    "list2 = randint( 2, 50, 10 )\n",
    "\n",
    "list2 = list2.tolist()\n",
    "print(list2)\n",
    "print(list2[:10])\n",
    "\n",
    "j = 1\n",
    "for i in range(10):\n",
    "    print(i)\n",
    "\n",
    "    \n",
    "\n",
    "for i in range(1, len(list2)):\n",
    "    list2[i] += list2[i - 1]\n",
    "\n",
    "print(list2)"
   ]
  }
 ],
 "metadata": {
  "kernelspec": {
   "display_name": "Python 3 (ipykernel)",
   "language": "python",
   "name": "python3"
  },
  "language_info": {
   "codemirror_mode": {
    "name": "ipython",
    "version": 3
   },
   "file_extension": ".py",
   "mimetype": "text/x-python",
   "name": "python",
   "nbconvert_exporter": "python",
   "pygments_lexer": "ipython3",
   "version": "3.9.0"
  }
 },
 "nbformat": 4,
 "nbformat_minor": 5
}
